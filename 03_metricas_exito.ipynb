{
 "cells": [
  {
   "cell_type": "code",
   "execution_count": 1,
   "id": "5c6f9c7c",
   "metadata": {},
   "outputs": [],
   "source": [
    "import pandas as pd\n",
    "import numpy as np\n",
    "\n",
    "# Cargar el dataset limpio\n",
    "df = pd.read_csv(\"online_retail_limpio.csv\")"
   ]
  },
  {
   "cell_type": "code",
   "execution_count": null,
   "id": "ca2f4f68",
   "metadata": {},
   "outputs": [],
   "source": [
    "# Convierto de nuevo fechas a datetime\n",
    "df['InvoiceDate'] = pd.to_datetime(df['InvoiceDate'], errors='coerce')\n",
    "\n",
    "# Elimino filas con valores nulos esenciales\n",
    "df.dropna(subset=['InvoiceNo', 'StockCode', 'Quantity', 'UnitPrice', 'InvoiceDate'], inplace=True)\n",
    "\n",
    "# Añado ls columna 'TotalSales' = Quantity * UnitPrice\n",
    "df['TotalSales'] = df['Quantity'] * df['UnitPrice']\n",
    "\n",
    "# Creo la columna 'Month' para agrupaciones por mes\n",
    "df['Month'] = df['InvoiceDate'].dt.to_period('M')\n",
    "\n",
    "# Creo el dataframe con tasa de rotación por producto por mes\n",
    "rotation_df = df.groupby(['StockCode', 'Month']).agg({\n",
    "    'Quantity': 'sum',\n",
    "    'TotalSales': 'sum'\n",
    "}).reset_index()\n",
    "\n",
    "# Los productos con baja rotación estimo que son aquellos vendieron menos de 5 unidades en un mes\n",
    "low_rotation = rotation_df[rotation_df['Quantity'] < 5]\n",
    "\n",
    "# Cancelaciones: InvoiceNo que empiezan por 'C'\n",
    "df['Cancelled'] = df['InvoiceNo'].astype(str).str.startswith('C')\n",
    "cancelled_by_country = df[df['Cancelled']].groupby('Country').agg({\n",
    "    'InvoiceNo': 'nunique'\n",
    "}).rename(columns={'InvoiceNo': 'NumCancelledInvoices'}).reset_index()\n",
    "\n",
    "# Inventario inmovilizado: productos no vendidos en los últimos 3 meses\n",
    "last_month = df['InvoiceDate'].max().to_period('M')\n",
    "cutoff_month = (last_month - 3).start_time\n",
    "recent_sales = df[df['InvoiceDate'] >= cutoff_month]\n",
    "recent_products = recent_sales['StockCode'].unique()\n",
    "immobile_inventory = df[~df['StockCode'].isin(recent_products)]\n",
    "\n",
    "# Coste de inventario inmovilizado\n",
    "immobile_cost = immobile_inventory.groupby('StockCode').agg({\n",
    "    'Quantity': 'sum',\n",
    "    'UnitPrice': 'mean'\n",
    "})\n",
    "immobile_cost['EstimatedValue'] = immobile_cost['Quantity'] * immobile_cost['UnitPrice']\n",
    "immobile_cost_total = immobile_cost['EstimatedValue'].sum()\n"
   ]
  },
  {
   "cell_type": "code",
   "execution_count": 4,
   "id": "d9ab111e",
   "metadata": {},
   "outputs": [],
   "source": [
    "# Exportar productos con baja rotación\n",
    "low_rotation.to_csv(\"productos_baja_rotacion.csv\", index=False)\n",
    "\n",
    "# Exportar inventario inmovilizado con su valor estimado\n",
    "immobile_cost.reset_index().to_csv(\"inventario_inmovilizado.csv\", index=False)\n",
    "\n",
    "# Exportar tasa de rotación mensual por producto\n",
    "rotation_df.to_csv(\"tasa_rotacion_mensual.csv\", index=False)"
   ]
  },
  {
   "cell_type": "code",
   "execution_count": null,
   "id": "cc84515a",
   "metadata": {},
   "outputs": [],
   "source": [
    "# Agrupo por producto y país para obtener métricas por combinación\n",
    "df_alertas = df.groupby([\"Description\", \"Country\"]).agg({\n",
    "    \"Quantity\": \"sum\",\n",
    "    \"UnitPrice\": \"mean\"\n",
    "}).reset_index()\n",
    "\n",
    "# Renombro las columnas para que sean mucho más claras\n",
    "df_alertas.columns = [\"Product\", \"Country\", \"Quantity\", \"Avg_UnitPrice\"]\n",
    "\n",
    "# Aplico las reglas de alerta con tres niveles de urgencia\n",
    "def clasificar_alerta(row):\n",
    "    if row[\"Quantity\"] > 300 and row[\"Avg_UnitPrice\"] > 10:\n",
    "        return \"CRITICA\"\n",
    "    elif row[\"Quantity\"] > 300:\n",
    "        return \"MEDIA\"\n",
    "    else:\n",
    "        return \"OK\"\n",
    "\n",
    "df_alertas[\"AlertFlag\"] = df_alertas.apply(clasificar_alerta, axis=1)"
   ]
  }
 ],
 "metadata": {
  "kernelspec": {
   "display_name": "Python 3",
   "language": "python",
   "name": "python3"
  },
  "language_info": {
   "codemirror_mode": {
    "name": "ipython",
    "version": 3
   },
   "file_extension": ".py",
   "mimetype": "text/x-python",
   "name": "python",
   "nbconvert_exporter": "python",
   "pygments_lexer": "ipython3",
   "version": "3.9.6"
  }
 },
 "nbformat": 4,
 "nbformat_minor": 5
}
